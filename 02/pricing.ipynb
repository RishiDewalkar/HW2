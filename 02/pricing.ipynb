{
 "cells": [
  {
   "cell_type": "code",
   "execution_count": 2,
   "id": "8caf6473-3036-4cc4-8bf5-65d3389390ac",
   "metadata": {},
   "outputs": [],
   "source": [
    "# pricing.py\n",
    "\n",
    "def get_net_price(price, tax_rate, discount=0):\n",
    "    return price * (1 + tax_rate) * (1-discount)\n",
    "\n",
    "\n",
    "def get_tax(price, tax_rate=0):\n",
    "    return price * tax_rate"
   ]
  },
  {
   "cell_type": "code",
   "execution_count": null,
   "id": "b95583d6-cb0a-4e7e-931e-fa54d0639652",
   "metadata": {},
   "outputs": [],
   "source": []
  }
 ],
 "metadata": {
  "kernelspec": {
   "display_name": "Python 3 (ipykernel)",
   "language": "python",
   "name": "python3"
  },
  "language_info": {
   "codemirror_mode": {
    "name": "ipython",
    "version": 3
   },
   "file_extension": ".py",
   "mimetype": "text/x-python",
   "name": "python",
   "nbconvert_exporter": "python",
   "pygments_lexer": "ipython3",
   "version": "3.12.4"
  }
 },
 "nbformat": 4,
 "nbformat_minor": 5
}
